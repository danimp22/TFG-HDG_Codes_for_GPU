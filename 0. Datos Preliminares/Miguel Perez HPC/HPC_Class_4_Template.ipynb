{
 "cells": [
  {
   "cell_type": "code",
   "execution_count": null,
   "id": "233c9de5-9d1f-424e-802f-0ebdca9db98f",
   "metadata": {},
   "outputs": [],
   "source": [
    "%matplotlib widget\n",
    "import numpy as np\n",
    "import cupy as cp\n",
    "from functools import partial\n",
    "from time import time as gct\n",
    "\n",
    "# to plot (not needed)\n",
    "import matplotlib.pyplot as plt\n",
    "import ipywidgets as iwi\n",
    "\n",
    "# Toggle CPU/GPU\n",
    "mp = np"
   ]
  },
  {
   "cell_type": "code",
   "execution_count": null,
   "id": "2b92eff3-e3a0-41b8-8565-9820b27e57db",
   "metadata": {},
   "outputs": [],
   "source": [
    "## Run an Ensemble Lorenz System \n",
    "### https://en.wikipedia.org/wiki/Lorenz_system\n",
    "\n",
    "# u is [x, y, z]\n",
    "def RHS(u, t, σ, ρ, β):\n",
    "    v = mp.empty_like(u)\n",
    "    v[0] = σ*(u[1] - u[0])\n",
    "    v[1] = u[0]*(ρ - u[2]) - u[1]\n",
    "    v[2] = u[0]*u[1] - β*u[2]\n",
    "    return v\n",
    "\n",
    "## One step of Runge-Kutta of 4th order\n",
    "### https://en.wikipedia.org/wiki/Runge%E2%80%93Kutta_methods\n",
    "def RK4(rhs, u, t, dt):\n",
    "    k1 = rhs(u, t)\n",
    "    k2 = rhs(u + 0.5*dt*k1, t + 0.5*dt)\n",
    "    k3 = rhs(u + 0.5*dt*k2, t + 0.5*dt)\n",
    "    k4 = rhs(u +     dt*k3, t +     dt)\n",
    "    return u + dt*(k1 + 2*k2 + 2*k3 + k4)/6"
   ]
  },
  {
   "cell_type": "code",
   "execution_count": null,
   "id": "d980ec90-c0d8-4dea-8d44-eacb89e20933",
   "metadata": {},
   "outputs": [],
   "source": [
    "### MAIN LOOP\n",
    "N_ensemble = 16\n",
    "u = mp.zeros((3, N_ensemble))\n",
    "\n",
    "# Initial condition(s)\n",
    "u[:] = mp.array([1, 1, 1])[:, None] + mp.random.randn(*u.shape)*1e-4\n",
    "\n",
    "# Simulation parameters\n",
    "dt, t_f = 0.01, 30\n",
    "time = mp.r_[0:(t_f + dt/2):dt]\n",
    "sol = mp.empty((time.size, 3, N_ensemble)) # To plot (not needed to compute)\n",
    "d = mp.empty(time.size)\n",
    "\n",
    "rhs = partial(RHS, σ=10.0, ρ=28.0, β=8/3) \n",
    "\n",
    "__t0 = gct()\n",
    "for it, t in enumerate(time):\n",
    "    sol[it] = u\n",
    "    d[it] = ((u[:, None, :] - u[:, :, None])**2).sum()/(2*N_ensemble*(N_ensemble - 1))\n",
    "    u = RK4(rhs, u, t, dt)\n",
    "\n",
    "__t1 = gct()\n",
    "print(f\"Elapsed time: {__t1 - __t0} seconds.\")"
   ]
  },
  {
   "cell_type": "code",
   "execution_count": null,
   "id": "8dffa212-9f58-433a-a8d1-55b849e3a35d",
   "metadata": {},
   "outputs": [],
   "source": [
    "# VISUALISATION\n",
    "plt.close(\"all\")\n",
    "ax = plt.figure().add_subplot(projection='3d')\n",
    "\n",
    "lines = []\n",
    "for s in sol.T:\n",
    "    lines.append(ax.plot(*s[:, 0:10])[0])\n",
    "\n",
    "    \n",
    "ax.axis((-19.418412333150403, 21.41106172373093,\n",
    "         -25.887737159291817, 29.710790591988996,\n",
    "         0.961516335668642, 47.83407360152122))\n",
    "\n",
    "slider = iwi.IntSlider(min=0, max=(tm:=time.size-11), value=0, step=1,\n",
    "                         description='Iteration', continuous_update=True, readout=False)\n",
    "play   = iwi.Play(min=0, max=tm, step=1, interval=5, continuous_update=False)\n",
    "iwi.jslink((slider, 'value'), (play, ('value')))\n",
    "out = iwi.Output()\n",
    "\n",
    "def time_changed(change):\n",
    "    global lines, balls\n",
    "    it0 = change.new\n",
    "    it1 = change.new + 10\n",
    "    for line, s in zip(lines, sol.T):\n",
    "        line.set_data_3d(*s[:, it0:it1])\n",
    "        \n",
    "    with out:\n",
    "        print(f\"{it0:05d}\", end='\\r')\n",
    "    \n",
    "slider.observe(time_changed, 'value')\n",
    "\n",
    "iwi.HBox([play, slider, out])"
   ]
  },
  {
   "cell_type": "code",
   "execution_count": null,
   "id": "84e85029-1216-4c70-af84-cef685a5149f",
   "metadata": {},
   "outputs": [],
   "source": [
    "plt.close(\"all\")\n",
    "plt.plot(time, d)\n",
    "plt.xlabel(\"Time\")\n",
    "plt.ylabel(\"$L_2$-distance\")\n",
    "plt.gca().set_yscale(\"log\")\n",
    "plt.tight_layout()"
   ]
  },
  {
   "cell_type": "code",
   "execution_count": null,
   "id": "c100b0b5-a476-4ac9-88dc-0a9bc4cb1a97",
   "metadata": {},
   "outputs": [],
   "source": [
    "import matplotlib\n",
    "matplotlib.__version__"
   ]
  },
  {
   "cell_type": "code",
   "execution_count": null,
   "id": "8c995fdb-2ebd-4824-912b-8feec1bc2b4c",
   "metadata": {},
   "outputs": [],
   "source": []
  }
 ],
 "metadata": {
  "kernelspec": {
   "display_name": "Python 3 (ipykernel)",
   "language": "python",
   "name": "python3"
  },
  "language_info": {
   "codemirror_mode": {
    "name": "ipython",
    "version": 3
   },
   "file_extension": ".py",
   "mimetype": "text/x-python",
   "name": "python",
   "nbconvert_exporter": "python",
   "pygments_lexer": "ipython3",
   "version": "3.11.7"
  }
 },
 "nbformat": 4,
 "nbformat_minor": 5
}
