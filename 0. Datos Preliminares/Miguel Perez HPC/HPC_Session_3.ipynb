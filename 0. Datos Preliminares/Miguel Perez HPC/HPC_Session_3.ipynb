{
  "nbformat": 4,
  "nbformat_minor": 0,
  "metadata": {
    "colab": {
      "provenance": [],
      "gpuType": "T4"
    },
    "kernelspec": {
      "name": "python3",
      "display_name": "Python 3"
    },
    "language_info": {
      "name": "python"
    },
    "accelerator": "GPU"
  },
  "cells": [
    {
      "cell_type": "code",
      "execution_count": 1,
      "metadata": {
        "id": "Ud08FZTEixXW"
      },
      "outputs": [],
      "source": [
        "from pylab import *\n",
        "import numba as nb\n",
        "from numba import cuda"
      ]
    },
    {
      "cell_type": "code",
      "source": [
        "Nk, Nx = 65536, 256\n",
        "f = randn(Nx, Nk)\n",
        "u = zeros((Nx, Nk))\n",
        "\n",
        "fT, uT = f.T.copy(), u.T.copy()\n",
        "\n",
        "f_device = cuda.to_device(f)\n",
        "u_device = cuda.to_device(u)\n",
        "\n",
        "fT_device = cuda.to_device(fT)\n",
        "uT_device = cuda.to_device(uT)\n",
        "\n",
        "x = linspace(0, 1, Nx)\n",
        "dx = x[1] - x[0]\n",
        "dx2_host = dx*2\n",
        "dx2_device = cuda.to_device([dx2_host]) # You have to create an array of size 1\n",
        "\n",
        "@cuda.jit\n",
        "def heat(u, f, dx2):\n",
        "  tx = cuda.threadIdx.x\n",
        "  bx = cuda.blockIdx.x\n",
        "  bw = cuda.blockDim.x\n",
        "  i = tx + bx*bw\n",
        "  if i < u.shape[1]:\n",
        "    for k in range(6000):\n",
        "      for j in range(1, u.shape[0]-1):\n",
        "        ul = u[j-1, i]\n",
        "        ur = u[j+1, i]\n",
        "        fji = f[j, i]\n",
        "        u[j, i] = 0.5*(ul + ur - dx2[0]*fji)\n",
        "\n",
        "@cuda.jit\n",
        "def heat_T(u, f, dx2):\n",
        "  tx = cuda.threadIdx.x\n",
        "  bx = cuda.blockIdx.x\n",
        "  bw = cuda.blockDim.x\n",
        "  i = tx + bx*bw\n",
        "  if i < u.shape[0]:\n",
        "    for k in range(6000):\n",
        "      for j in range(1, u.shape[1]-1):\n",
        "        ul = u[i, j-1]\n",
        "        ur = u[i, j+1]\n",
        "        fji = f[i, j]\n",
        "        u[i, j] = 0.5*(ul + ur - dx2[0]*fji)\n",
        "\n",
        "# NOTE: In CPU the optimal axis order is the opposite\n",
        "@nb.njit(parallel=True)\n",
        "def heat_cpu(u, f, dx2):\n",
        "  for i in nb.prange(u.shape[0]):\n",
        "    for k in range(6000):\n",
        "      for j in range(1, u.shape[1]):\n",
        "        ul = u[i, j-1]\n",
        "        ur = u[i, j+1]\n",
        "        fji = f[i, j]\n",
        "        u[i, j] = 0.5*(ul + ur - dx2*fji)"
      ],
      "metadata": {
        "id": "UXDNmf4Si35J"
      },
      "execution_count": 2,
      "outputs": []
    },
    {
      "cell_type": "code",
      "source": [
        "%time heat[Nk//64, 64](u_device, f_device, dx2_device)\n",
        "%time heat_T[Nk//64, 64](uT_device, fT_device, dx2_device)\n",
        "%time heat_cpu(uT[:4096], fT[:4096], dx2_host)"
      ],
      "metadata": {
        "colab": {
          "base_uri": "https://localhost:8080/"
        },
        "id": "pkDvLtAVi-CX",
        "outputId": "2aef46ed-8bbb-41cc-85e1-c8c9cde24df9"
      },
      "execution_count": 3,
      "outputs": [
        {
          "output_type": "stream",
          "name": "stdout",
          "text": [
            "CPU times: user 302 ms, sys: 21.6 ms, total: 323 ms\n",
            "Wall time: 325 ms\n",
            "CPU times: user 9.49 s, sys: 37.6 ms, total: 9.52 s\n",
            "Wall time: 10.5 s\n",
            "CPU times: user 24.6 s, sys: 116 ms, total: 24.8 s\n",
            "Wall time: 14.1 s\n"
          ]
        }
      ]
    },
    {
      "cell_type": "code",
      "source": [
        "@cuda.jit\n",
        "def heat2D_RACECONDITION(u, f, dx2):\n",
        "  tx, ty = cuda.threadIdx.x, cuda.threadIdx.y\n",
        "  bx, by = cuda.blockIdx.x, cuda.blockIdx.y\n",
        "  bwx, bwy = cuda.blockDim.x, cuda.blockDim.y\n",
        "  i, j = tx + bx*bwx, ty + by*bwy\n",
        "  if (i < u.shape[1]) and (j < u.shape[0]):\n",
        "    for k in range(2):\n",
        "      un = u[j, i + 1]\n",
        "      us = u[j, i - 1]\n",
        "      uw = u[j - 1, i]\n",
        "      ue = u[j + 1, i]\n",
        "      fji = f[j, i]\n",
        "      # u[j, i] = 0.25*(un + ue + us + uw - dx2[0]*fji)\n",
        "      u[j, i] = un + ue + us + uw  # THIS IS JUST A TEST\n",
        "\n",
        "@cuda.jit\n",
        "def heat2D(u, f, dx2):\n",
        "  tx, ty = cuda.threadIdx.x, cuda.threadIdx.y\n",
        "  bx, by = cuda.blockIdx.x, cuda.blockIdx.y\n",
        "  bwx, bwy = cuda.blockDim.x, cuda.blockDim.y\n",
        "  i, j = tx + bx*bwx, ty + by*bwy\n",
        "  if (1 < i < u.shape[1] - 1) and (1 < j < u.shape[0] - 1):\n",
        "    # YOU CANNOT LOOP UPDATING GLOBAL MEMORY I?NSIDE A KERNEL\n",
        "      un = u[j, i + 1]\n",
        "      us = u[j, i - 1]\n",
        "      uw = u[j - 1, i]\n",
        "      ue = u[j + 1, i]\n",
        "      fji = f[j, i]\n",
        "      u[j, i] = 0.25*(un + ue + us + uw - dx2[0]*fji)\n",
        "\n",
        "# EXCERCISE: WRITE HEAT2D without wasting threads\n",
        "# HINT: only way of 0 wasting is to use a array of (2**N + 2, 2**N + 2)"
      ],
      "metadata": {
        "id": "ZVYoWU0lkc-Q"
      },
      "execution_count": 33,
      "outputs": []
    },
    {
      "cell_type": "code",
      "source": [
        "N = 128\n",
        "f = zeros((N, N))\n",
        "\n",
        "u = ones((N, N))\n",
        "u[0, :] = u[-1, :] = u[:, 0] = u[:, -1] = 0\n",
        "x = linspace(0, 1, Nx)\n",
        "dx = x[1] - x[0]\n",
        "dx2_host = dx**2\n",
        "f[64, 64] = -1/dx2_host\n",
        "\n",
        "u_device = cuda.to_device(u)\n",
        "f_device = cuda.to_device(f)\n",
        "dx2_device = cuda.to_device([dx2_host]) # You have to create an array of size 1\n",
        "\n",
        "TPB = 8\n",
        "for k in range(12000):\n",
        "  # EVERY TIME YOU MOVE OUTSIDE THE KERNEL, GLOBAL MEMORY IS SYNCHONISED\n",
        "  heat2D[(N//TPB, N//TPB), (TPB, TPB)](u_device, f_device, dx2_device)"
      ],
      "metadata": {
        "id": "CWoei-y8q6wq"
      },
      "execution_count": 34,
      "outputs": []
    },
    {
      "cell_type": "code",
      "source": [
        "close(\"all\")\n",
        "pcolormesh(u_host := u_device.copy_to_host()), colorbar()"
      ],
      "metadata": {
        "colab": {
          "base_uri": "https://localhost:8080/",
          "height": 466
        },
        "id": "Ou-1KBRyraXx",
        "outputId": "41e77c19-295d-4078-984f-7abff734410b"
      },
      "execution_count": 35,
      "outputs": [
        {
          "output_type": "execute_result",
          "data": {
            "text/plain": [
              "(<matplotlib.collections.QuadMesh at 0x7a443128efe0>,\n",
              " <matplotlib.colorbar.Colorbar at 0x7a4431196cb0>)"
            ]
          },
          "metadata": {},
          "execution_count": 35
        },
        {
          "output_type": "display_data",
          "data": {
            "text/plain": [
              "<Figure size 640x480 with 2 Axes>"
            ],
            "image/png": "[encoded data removed]"
          },
          "metadata": {}
        }
      ]
    },
    {
      "cell_type": "code",
      "source": [
        "## SHARED MEMORY EXAMPLE\n",
        "TPB = 8\n",
        "TPB2 = TPB + 2\n",
        "@cuda.jit\n",
        "def heat2D_shared(u, f, dx2):\n",
        "  tx, ty = cuda.threadIdx.x, cuda.threadIdx.y\n",
        "  bx, by = cuda.blockIdx.x, cuda.blockIdx.y\n",
        "  bwx, bwy = cuda.blockDim.x, cuda.blockDim.y\n",
        "\n",
        "  i, j = tx + bx*bwx, ty + by*bwy\n",
        "\n",
        "  # The size has to be known at COMPILATION TIME\n",
        "  # NOT INITIALISED TO ZERO\n",
        "  s_u = cuda.shared.array((TPB2, TPB2), dtype=nb.float64)\n",
        "  i_local = tx + 1\n",
        "  j_local = ty + 1\n",
        "  i1 = i + 1\n",
        "  j1 = j + 1\n",
        "  if (i < u.shape[1]) and (j < u.shape[0]):\n",
        "    s_u[j_local, i_local] = u[j1, i1]\n",
        "    if tx == 0:\n",
        "      s_u[j_local, i_local - 1] =  u[j1, i1 - 1]\n",
        "    if ty == 0:\n",
        "      s_u[j_local - 1, i_local] =  u[j1 - 1, i1]\n",
        "    if tx == bwx - 1:\n",
        "      s_u[j_local, i_local + 1] =  u[j1, i1 + 1]\n",
        "    if ty == bwy - 1:\n",
        "      s_u[j_local + 1, i_local] =  u[j1 + 1, i1]\n",
        "\n",
        "  #THERE IS A RACE CONDITION HERE\n",
        "  cuda.syncthreads()\n",
        "\n",
        "  if (i < u.shape[1] - 2) and (j < u.shape[0] - 2):\n",
        "    # YOU CANNOT LOOP UPDATING GLOBAL MEMORY I?NSIDE A KERNEL\n",
        "      un = s_u[j_local, i_local + 1]\n",
        "      us = s_u[j_local, i_local - 1]\n",
        "      uw = s_u[j_local - 1, i_local]\n",
        "      ue = s_u[j_local + 1, i_local]\n",
        "      fji = f[j1, i1]\n",
        "      u[j1, i1] = 0.25*(un + ue + us + uw - dx2[0]*fji)\n"
      ],
      "metadata": {
        "id": "0xaf1WNHrgPE"
      },
      "execution_count": 42,
      "outputs": []
    },
    {
      "cell_type": "code",
      "source": [
        "N = 128\n",
        "f = zeros((N, N))\n",
        "\n",
        "u = ones((N, N))\n",
        "u[0, :] = u[-1, :] = u[:, 0] = u[:, -1] = 0\n",
        "x = linspace(0, 1, Nx)\n",
        "dx = x[1] - x[0]\n",
        "dx2_host = dx**2\n",
        "f[64, 64] = -1/dx2_host\n",
        "\n",
        "u_device = cuda.to_device(u)\n",
        "f_device = cuda.to_device(f)\n",
        "dx2_device = cuda.to_device([dx2_host]) # You have to create an array of size 1\n",
        "\n",
        "TPB = 8\n",
        "for k in range(12000):\n",
        "  # EVERY TIME YOU MOVE OUTSIDE THE KERNEL, GLOBAL MEMORY IS SYNCHONISED\n",
        "  heat2D_shared[(N//TPB, N//TPB), (TPB, TPB)](u_device, f_device, dx2_device)"
      ],
      "metadata": {
        "id": "wMku55N_tzLg"
      },
      "execution_count": 43,
      "outputs": []
    },
    {
      "cell_type": "code",
      "source": [
        "close(\"all\")\n",
        "pcolormesh(u_host := u_device.copy_to_host()), colorbar()"
      ],
      "metadata": {
        "colab": {
          "base_uri": "https://localhost:8080/",
          "height": 466
        },
        "id": "39mAM8UWzpOZ",
        "outputId": "87e9a51c-28b2-40e3-be57-419066efb07c"
      },
      "execution_count": 44,
      "outputs": [
        {
          "output_type": "execute_result",
          "data": {
            "text/plain": [
              "(<matplotlib.collections.QuadMesh at 0x7a4430e30b50>,\n",
              " <matplotlib.colorbar.Colorbar at 0x7a4430afe530>)"
            ]
          },
          "metadata": {},
          "execution_count": 44
        },
        {
          "output_type": "display_data",
          "data": {
            "text/plain": [
              "<Figure size 640x480 with 2 Axes>"
            ],
            "image/png": "[encoded data removed]"
          },
          "metadata": {}
        }
      ]
    },
    {
      "cell_type": "code",
      "source": [
        "%time heat2D_shared[(N//TPB, N//TPB), (TPB, TPB)](u_device, f_device, dx2_device)\n",
        "%time heat2D[(N//TPB, N//TPB), (TPB, TPB)](u_device, f_device, dx2_device)"
      ],
      "metadata": {
        "colab": {
          "base_uri": "https://localhost:8080/"
        },
        "id": "tBzWl81mz0AY",
        "outputId": "c0fbbeea-a8c6-47ab-9e3e-5e2947d95c39"
      },
      "execution_count": 47,
      "outputs": [
        {
          "output_type": "stream",
          "name": "stdout",
          "text": [
            "CPU times: user 672 µs, sys: 34 µs, total: 706 µs\n",
            "Wall time: 624 µs\n",
            "CPU times: user 250 µs, sys: 0 ns, total: 250 µs\n",
            "Wall time: 256 µs\n"
          ]
        }
      ]
    },
    {
      "cell_type": "code",
      "source": [
        "## SHARED MEMORy is only useful if:\n",
        "## - you have a very clean read (e.g. no ghost points)\n",
        "## - if you can iterate over those values.\n",
        "\n",
        "@cuda.jit\n",
        "def matmul(A, B, C):\n",
        "    \"\"\"Perform square matrix multiplication of C = A * B\n",
        "    \"\"\"\n",
        "    # tx, ty = cuda.threadIdx.x, cuda.threadIdx.y\n",
        "    # bx, by = cuda.blockIdx.x, cuda.blockIdx.y\n",
        "    # bwx, bwy = cuda.blockDim.x, cuda.blockDim.y\n",
        "\n",
        "    # i, j = tx + bx*bwx, ty + by*bwy\n",
        "    i, j = cuda.grid(2)\n",
        "    if i < C.shape[0] and j < C.shape[1]:\n",
        "        C[i, j] = 0.0\n",
        "        for k in range(A.shape[1]):\n",
        "            C[i, j] += A[i, k]*B[k, j]\n",
        "\n",
        "\n",
        "TPB = 8\n",
        "@cuda.jit\n",
        "def fast_matmul(A, B, C):\n",
        "    sA = cuda.shared.array(shape=(TPB, TPB), dtype=nb.float64)\n",
        "    sB = cuda.shared.array(shape=(TPB, TPB), dtype=nb.float64)\n",
        "\n",
        "    i, j = cuda.grid(2)\n",
        "\n",
        "    tx = cuda.threadIdx.x\n",
        "    ty = cuda.threadIdx.y\n",
        "    bpg = cuda.gridDim.x    # blocks per grid\n",
        "\n",
        "    if i < C.shape[0] or j < C.shape[1]:\n",
        "      tmp = 0.\n",
        "      for ii in range(bpg):\n",
        "          sA[tx, ty] = A[i, ty + ii * TPB]\n",
        "          sB[tx, ty] = B[tx + ii * TPB, j]\n",
        "\n",
        "          cuda.syncthreads()\n",
        "\n",
        "          # THE CAKE IS HERE\n",
        "          for jj in range(TPB):\n",
        "              tmp += sA[tx, jj] * sB[jj, ty]\n",
        "\n",
        "          cuda.syncthreads()\n",
        "\n",
        "      C[i, j] = tmp"
      ],
      "metadata": {
        "id": "hFjn1aNY1FXu"
      },
      "execution_count": 62,
      "outputs": []
    },
    {
      "cell_type": "code",
      "source": [
        "N = 2048\n",
        "TPB = 8\n",
        "A, B = randn(2, N, N)\n",
        "C = zeros((N, N))\n",
        "A_dev, B_dev, C_dev = map(cuda.to_device, (A, B, C))\n",
        "matmul[(N//TPB, N//TPB), (TPB, TPB)](A_dev, B_dev, C_dev)\n",
        "C[...] = A@B\n",
        "norm(C - C_dev.copy_to_host())"
      ],
      "metadata": {
        "colab": {
          "base_uri": "https://localhost:8080/"
        },
        "id": "gKoDHJKn3mBJ",
        "outputId": "9f7cb7af-9493-4c5a-cae4-077d27619c65"
      },
      "execution_count": 67,
      "outputs": [
        {
          "output_type": "execute_result",
          "data": {
            "text/plain": [
              "1.45891881832766e-10"
            ]
          },
          "metadata": {},
          "execution_count": 67
        }
      ]
    },
    {
      "cell_type": "code",
      "source": [
        "%time matmul[(N//TPB, N//TPB), (TPB, TPB)](A_dev, B_dev, C_dev)\n",
        "%time fast_matmul[(N//TPB, N//TPB), (TPB, TPB)](A_dev, B_dev, C_dev)"
      ],
      "metadata": {
        "colab": {
          "base_uri": "https://localhost:8080/"
        },
        "id": "xSQ1j-DG4Du8",
        "outputId": "2a60ad80-e254-4036-d5d0-da75c304f511"
      },
      "execution_count": 69,
      "outputs": [
        {
          "output_type": "stream",
          "name": "stdout",
          "text": [
            "CPU times: user 0 ns, sys: 800 µs, total: 800 µs\n",
            "Wall time: 714 µs\n",
            "CPU times: user 233 µs, sys: 13 µs, total: 246 µs\n",
            "Wall time: 252 µs\n"
          ]
        }
      ]
    },
    {
      "cell_type": "code",
      "source": [
        "N = 256\n",
        "x = linspace(-1, 1, N)\n",
        "X, Y, Z = ix_(x, x, x)\n",
        "u = exp(-(X**2 + Y**2 + Z**2)*6.28)\n",
        "dx = x[1] - x[0]\n",
        "u_dev = cuda.to_device(u)\n",
        "du_dx_dev = cuda.to_device(zeros((N, N, N)))\n",
        "du_dX_dev = cuda.to_device(zeros((3, N, N, N)))\n",
        "dx1_dev = cuda.to_device([1/dx])"
      ],
      "metadata": {
        "id": "oMBCTkXw4GG5"
      },
      "execution_count": 70,
      "outputs": []
    },
    {
      "cell_type": "code",
      "source": [
        "#THESE TWO ARE THE SAME (0, 0)\n",
        "@cuda.jit\n",
        "def derivative_grid_0(u, du_dx, dx1):\n",
        "    i, j, k = cuda.grid(3)\n",
        "    if (k < u.shape[2] - 1) and (j < u.shape[1]) and (i < u.shape[0]):\n",
        "        du_dx[k, j, i] = dx1[0]*(u[k + 1, j, i] - u[k, j, i])\n",
        "\n",
        "@cuda.jit\n",
        "def derivative_loop_0(u, du_dx, dx1): # TRYING TO DO \"ENOUGH\" OPERATIONS PER THREAD\n",
        "    i, j = cuda.grid(2)\n",
        "    if (i < u.shape[1]) and (j < u.shape[0]):\n",
        "        for k in range(u.shape[0] - 1):\n",
        "            du_dx[k, j, i] = dx1[0]*(u[k + 1, j, i] - u[k, j, i])\n",
        "\n",
        "@cuda.jit\n",
        "def derivative_loop_1(u, du_dx, dx1):\n",
        "    tx, ty = cuda.threadIdx.x, cuda.threadIdx.y\n",
        "    bx, by = cuda.blockIdx.x, cuda.blockIdx.y\n",
        "    bwx, bwy = cuda.blockDim.x, cuda.blockDim.y\n",
        "    i, j = tx + bx*bwx, ty + by*bwy\n",
        "    if (i < u.shape[1]) and (j < u.shape[0]):\n",
        "        for k in range(u.shape[1] - 1):\n",
        "            du_dx[j, k, i] = dx1[0]*(u[j, k + 1, i] - u[j, k, i])\n",
        "\n",
        "@cuda.jit\n",
        "def derivative_loop_2(u, du_dx, dx1): # THIS IS TERREBLY SLOW\n",
        "    tx, ty = cuda.threadIdx.x, cuda.threadIdx.y\n",
        "    bx, by = cuda.blockIdx.x, cuda.blockIdx.y\n",
        "    bwx, bwy = cuda.blockDim.x, cuda.blockDim.y\n",
        "    i, j = tx + bx*bwx, ty + by*bwy\n",
        "    if (i < u.shape[1]) and (j < u.shape[0]):\n",
        "        for k in range(u.shape[2] - 1):\n",
        "            du_dx[j, i, k] = dx1[0]*(u[j, i, k + 1] - u[j, i, k])\n",
        "\n",
        "\n",
        "@cuda.jit\n",
        "def derivative_grid_1(u, du_dx, dx1):\n",
        "    i, j, k = cuda.grid(3)\n",
        "    if (k < u.shape[2]) and (j < u.shape[1] - 1) and (i < u.shape[0]):\n",
        "        du_dx[k, j, i] = dx1[0]*(u[k, j + 1, i] - u[k, j, i])\n",
        "\n",
        "\n",
        "@cuda.jit\n",
        "def derivative_grid_2(u, du_dx, dx1): # THIS IS FAST! (COMPILATION MAGIC)\n",
        "    i, j, k = cuda.grid(3)\n",
        "    if (k < u.shape[2]) and (j < u.shape[1]) and (i < u.shape[0] - 1):\n",
        "        du_dx[k, j, i] = dx1[0]*(u[k, j, i + 1] - u[k, j, i])\n",
        "\n",
        "# TAKE HOME MESSAGE: LITTLE OPERATIONS PER THREAD -> DO IT SIMPLE\n",
        "\n",
        "@cuda.jit\n",
        "def derivative_grid_012(u, du_dx, dx1):\n",
        "    i, j, k = cuda.grid(3)\n",
        "    if (k < u.shape[2] - 1) and (i < u.shape[1]) and (j < u.shape[0]):\n",
        "        du_dx[0, k, j, i] = dx1[0]*(u[k + 1, j, i] - u[k, j, i])\n",
        "    if (k < u.shape[2]) and (j < u.shape[1] - 1) and (i < u.shape[0]):\n",
        "        du_dx[1, k, j, i] = dx1[0]*(u[k, j + 1, i] - u[k, j, i])\n",
        "    if (k < u.shape[2]) and (j < u.shape[1]) and (i < u.shape[0] - 1):\n",
        "        du_dx[2, k, j, i] = dx1[0]*(u[k, j, i + 1] - u[k, j, i])"
      ],
      "metadata": {
        "id": "DifkXhvF7LLF"
      },
      "execution_count": 71,
      "outputs": []
    },
    {
      "cell_type": "code",
      "source": [],
      "metadata": {
        "id": "Yh2OfjAS7RE2"
      },
      "execution_count": null,
      "outputs": []
    }
  ]
}